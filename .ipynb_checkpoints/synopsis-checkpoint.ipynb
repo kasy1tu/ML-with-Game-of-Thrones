{
 "cells": [
  {
   "cell_type": "code",
   "execution_count": 1,
   "metadata": {},
   "outputs": [],
   "source": [
    "import pandas as pd\n",
    "import csv\n",
    "import os\n",
    "import numpy as np"
   ]
  },
  {
   "cell_type": "code",
   "execution_count": 2,
   "metadata": {},
   "outputs": [],
   "source": [
    "synopsis_jon = pd.read_csv(\"data/jon_synopsis.csv\")\n",
    "synopsis_cersei = pd.read_csv(\"data/cersei_synopsis.csv\")\n",
    "synopsis_daenerys = pd.read_csv(\"data/daenerys_synopsis.csv\")\n",
    "synopsis_tyrion = pd.read_csv(\"data/tyrion_synopsis.csv\")\n",
    "\n",
    "synopsis_w_w = pd.read_csv(\"data/w_walkers_1_synopsis.csv\")\n",
    "synopsis_night_king = pd.read_csv(\"data/night_king_synopsis.csv\")"
   ]
  },
  {
   "cell_type": "code",
   "execution_count": 28,
   "metadata": {},
   "outputs": [
    {
     "data": {
      "text/plain": [
       "str"
      ]
     },
     "execution_count": 28,
     "metadata": {},
     "output_type": "execute_result"
    }
   ],
   "source": [
    "jon_synopsis = str(synopsis_jon[\"Jon_and\"][0])\n",
    "type(jon_synopsis)"
   ]
  },
  {
   "cell_type": "code",
   "execution_count": 23,
   "metadata": {},
   "outputs": [
    {
     "data": {
      "text/plain": [
       "str"
      ]
     },
     "execution_count": 23,
     "metadata": {},
     "output_type": "execute_result"
    }
   ],
   "source": [
    "cersei_synopsis = str(synopsis_cersei[\"Cersei_and\"][0])\n",
    "type(cersei_synopsis)"
   ]
  },
  {
   "cell_type": "code",
   "execution_count": 24,
   "metadata": {},
   "outputs": [
    {
     "data": {
      "text/plain": [
       "str"
      ]
     },
     "execution_count": 24,
     "metadata": {},
     "output_type": "execute_result"
    }
   ],
   "source": [
    "daenerys_synopsis = str(synopsis_daenerys[\"Daenerys_takes\"][0])\n",
    "type(daenerys_synopsis)"
   ]
  },
  {
   "cell_type": "code",
   "execution_count": 25,
   "metadata": {},
   "outputs": [
    {
     "data": {
      "text/plain": [
       "str"
      ]
     },
     "execution_count": 25,
     "metadata": {},
     "output_type": "execute_result"
    }
   ],
   "source": [
    "tyrion_synopsis = str(synopsis_tyrion[\"Tyrion_tries\"][0])\n",
    "type(tyrion_synopsis)"
   ]
  },
  {
   "cell_type": "code",
   "execution_count": 30,
   "metadata": {},
   "outputs": [],
   "source": [
    "synopsis_df = pd.DataFrame({\n",
    "    \"character_synopsis\": [jon_synopsis, cersei_synopsis, daenerys_synopsis, tyrion_synopsis]\n",
    "})\n",
    "synopsis_df\n",
    "\n",
    "synopsis_df.to_csv(\"character_synopsis.csv\")"
   ]
  },
  {
   "cell_type": "code",
   "execution_count": 31,
   "metadata": {},
   "outputs": [
    {
     "data": {
      "text/plain": [
       "str"
      ]
     },
     "execution_count": 31,
     "metadata": {},
     "output_type": "execute_result"
    }
   ],
   "source": [
    "w_walker_synopsis = str(synopsis_w_w[\"White_Walkers\"][0])\n",
    "type(w_walker_synopsis)"
   ]
  },
  {
   "cell_type": "code",
   "execution_count": 33,
   "metadata": {},
   "outputs": [
    {
     "data": {
      "text/plain": [
       "str"
      ]
     },
     "execution_count": 33,
     "metadata": {},
     "output_type": "execute_result"
    }
   ],
   "source": [
    "night_king_synopsis = str(synopsis_night_king[\"The_Night_King\"][0])\n",
    "type(night_king_synopsis)"
   ]
  },
  {
   "cell_type": "code",
   "execution_count": 35,
   "metadata": {},
   "outputs": [],
   "source": [
    "night_synopsis_df = pd.DataFrame({\n",
    "    \"night_synopsis\": [w_walker_synopsis, night_king_synopsis]\n",
    "})\n",
    "night_synopsis_df\n",
    "\n",
    "night_synopsis_df.to_csv(\"night_synopsis.csv\")"
   ]
  },
  {
   "cell_type": "code",
   "execution_count": null,
   "metadata": {},
   "outputs": [],
   "source": []
  }
 ],
 "metadata": {
  "kernelspec": {
   "display_name": "Python 3",
   "language": "python",
   "name": "python3"
  },
  "language_info": {
   "codemirror_mode": {
    "name": "ipython",
    "version": 3
   },
   "file_extension": ".py",
   "mimetype": "text/x-python",
   "name": "python",
   "nbconvert_exporter": "python",
   "pygments_lexer": "ipython3",
   "version": "3.8.5"
  }
 },
 "nbformat": 4,
 "nbformat_minor": 4
}
